{
  "nbformat": 4,
  "nbformat_minor": 0,
  "metadata": {
    "colab": {
      "provenance": []
    },
    "kernelspec": {
      "name": "python3",
      "display_name": "Python 3"
    },
    "language_info": {
      "name": "python"
    }
  },
  "cells": [
    {
      "cell_type": "code",
      "execution_count": 1,
      "metadata": {
        "colab": {
          "base_uri": "https://localhost:8080/"
        },
        "id": "jJkH_jofOryI",
        "outputId": "49a86585-2544-492c-eefc-dc73e225f388"
      },
      "outputs": [
        {
          "output_type": "stream",
          "name": "stdout",
          "text": [
            "Shape of the feature matrix: (569, 30)\n"
          ]
        }
      ],
      "source": [
        "from sklearn.datasets import load_breast_cancer\n",
        "\n",
        "# Load the Wisconsin breast cancer dataset\n",
        "data = load_breast_cancer()\n",
        "\n",
        "# Get the shape of the feature matrix (X)\n",
        "feature_matrix_shape = data.data.shape\n",
        "print(f\"Shape of the feature matrix: {feature_matrix_shape}\")\n"
      ]
    },
    {
      "cell_type": "code",
      "source": [
        "# Count the number of benign (B) tumour cases in the target variable\n",
        "benign_count = (data.target == 0).sum()\n",
        "print(f\"Number of benign tumour cases: {benign_count}\")\n"
      ],
      "metadata": {
        "colab": {
          "base_uri": "https://localhost:8080/"
        },
        "id": "bL0cJZ3oP0f3",
        "outputId": "bada039a-c76e-4cde-d5d6-55381dd8382a"
      },
      "execution_count": 2,
      "outputs": [
        {
          "output_type": "stream",
          "name": "stdout",
          "text": [
            "Number of benign tumour cases: 212\n"
          ]
        }
      ]
    },
    {
      "cell_type": "code",
      "source": [
        "# Count the number of malignant (M) tumour cases in the target variable\n",
        "malignant_count = (data.target == 1).sum()\n",
        "print(f\"Number of malignant tumour cases: {malignant_count}\")\n"
      ],
      "metadata": {
        "colab": {
          "base_uri": "https://localhost:8080/"
        },
        "id": "-3wrjcYEP_lD",
        "outputId": "1f56610e-71a8-4fc3-d6f2-09548d2c1309"
      },
      "execution_count": 3,
      "outputs": [
        {
          "output_type": "stream",
          "name": "stdout",
          "text": [
            "Number of malignant tumour cases: 357\n"
          ]
        }
      ]
    },
    {
      "cell_type": "code",
      "source": [
        "from sklearn.datasets import fetch_california_housing\n",
        "\n",
        "# Load the California Housing dataset\n",
        "housing_data = fetch_california_housing()\n",
        "\n",
        "# Get the shape of the feature matrix (X)\n",
        "feature_matrix_shape_housing = housing_data.data.shape\n",
        "print(f\"Shape of the feature matrix: {feature_matrix_shape_housing}\")\n"
      ],
      "metadata": {
        "colab": {
          "base_uri": "https://localhost:8080/"
        },
        "id": "Pv6SVOGLQT6e",
        "outputId": "322d6be0-99a8-4eb1-d72d-1f117eb92b36"
      },
      "execution_count": 4,
      "outputs": [
        {
          "output_type": "stream",
          "name": "stdout",
          "text": [
            "Shape of the feature matrix: (20640, 8)\n"
          ]
        }
      ]
    },
    {
      "cell_type": "code",
      "source": [
        "# Get the first five labels (target values)\n",
        "first_five_labels = housing_data.target[:5]\n",
        "print(f\"Labels of the first five rows: {first_five_labels}\")\n"
      ],
      "metadata": {
        "colab": {
          "base_uri": "https://localhost:8080/"
        },
        "id": "WtK0_rQVQr7y",
        "outputId": "a1fabf96-696f-4472-b0c9-19cde75cd1b7"
      },
      "execution_count": 5,
      "outputs": [
        {
          "output_type": "stream",
          "name": "stdout",
          "text": [
            "Labels of the first five rows: [4.526 3.585 3.521 3.413 3.422]\n"
          ]
        }
      ]
    },
    {
      "cell_type": "code",
      "source": [
        "# Get the name of the target variable\n",
        "target_name = housing_data.target_names\n",
        "print(f\"Class label in California Housing dataset: {target_name}\")\n"
      ],
      "metadata": {
        "colab": {
          "base_uri": "https://localhost:8080/"
        },
        "id": "YT5URwSjQ6zu",
        "outputId": "c6aad829-c76f-48bd-8d8b-deff70708036"
      },
      "execution_count": 6,
      "outputs": [
        {
          "output_type": "stream",
          "name": "stdout",
          "text": [
            "Class label in California Housing dataset: ['MedHouseVal']\n"
          ]
        }
      ]
    }
  ]
}