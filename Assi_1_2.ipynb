{
  "nbformat": 4,
  "nbformat_minor": 0,
  "metadata": {
    "colab": {
      "provenance": []
    },
    "kernelspec": {
      "name": "python3",
      "display_name": "Python 3"
    },
    "language_info": {
      "name": "python"
    }
  },
  "cells": [
    {
      "cell_type": "markdown",
      "source": [],
      "metadata": {
        "id": "r7TRwwUhMiQL"
      }
    },
    {
      "cell_type": "markdown",
      "source": [
        "#import"
      ],
      "metadata": {
        "id": "R_sBOqemMktk"
      }
    },
    {
      "cell_type": "code",
      "execution_count": 1,
      "metadata": {
        "id": "pAQX8TscIkO0"
      },
      "outputs": [],
      "source": [
        "import pandas as pd\n",
        "import numpy as np\n",
        "\n",
        "# Load the dataset (replace 'data.csv' with the correct path or URL)\n",
        "df = pd.read_csv('/content/V5 (1).csv')\n",
        "\n",
        "# Replace \"?\" with NaN\n",
        "df.replace(\"?\", np.nan, inplace=True)\n"
      ]
    },
    {
      "cell_type": "markdown",
      "source": [
        "#Select all the even indexed rows from the given dataset. What is the value in the 3rd indexed column of the 0th indexed row in the selected dataframe. (row/ column indexed from zero(0) in python/pandas)"
      ],
      "metadata": {
        "id": "OiNMwsBbI4Kj"
      }
    },
    {
      "cell_type": "code",
      "source": [
        "# Select all even indexed rows (0, 2, 4, ...)\n",
        "even_rows_df = df.iloc[::2]\n",
        "\n",
        "# Get the value in the 3rd indexed column of the 0th indexed row\n",
        "value_even_rows_0_3 = even_rows_df.iloc[0, 3]\n",
        "print(\"Value in the 3rd indexed column of the 0th indexed row in even indexed rows:\", value_even_rows_0_3)\n"
      ],
      "metadata": {
        "colab": {
          "base_uri": "https://localhost:8080/"
        },
        "id": "_nDwjhXcI7Sv",
        "outputId": "31e4c081-b3a7-4c08-af9b-2344b8b3640e"
      },
      "execution_count": 2,
      "outputs": [
        {
          "output_type": "stream",
          "name": "stdout",
          "text": [
            "Value in the 3rd indexed column of the 0th indexed row in even indexed rows: 111440.0\n"
          ]
        }
      ]
    },
    {
      "cell_type": "markdown",
      "source": [
        "#Select all the even indexed rows from the given dataset. What is the value in the 3rd indexed column of the 332th indexed row in the selected dataframe. (row/ column indexed from zero(0))\n"
      ],
      "metadata": {
        "id": "EL6nvBxDJUDF"
      }
    },
    {
      "cell_type": "code",
      "source": [
        "# Get the value in the 3rd indexed column of the 332nd indexed row in even indexed rows\n",
        "value_even_rows_332_3 = even_rows_df.iloc[332, 3]\n",
        "print(\"Value in the 3rd indexed column of the 332nd indexed row in even indexed rows:\", value_even_rows_332_3)\n"
      ],
      "metadata": {
        "colab": {
          "base_uri": "https://localhost:8080/"
        },
        "id": "8wawr-frJWl9",
        "outputId": "c612044b-cb06-4e8a-9836-2eef4d2e6893"
      },
      "execution_count": 3,
      "outputs": [
        {
          "output_type": "stream",
          "name": "stdout",
          "text": [
            "Value in the 3rd indexed column of the 332nd indexed row in even indexed rows: 256200.0\n"
          ]
        }
      ]
    },
    {
      "cell_type": "markdown",
      "source": [
        "#Select all the odd indexed rows from the given dataset. What is the value in the 3rd indexed column of the 332th indexed row in the selected dataframe. (row/ column indexed from zero(0))\n",
        " Please consider case sensitivity while giving your solution capital letter ≠ small letter\n",
        "  If it is a string don't write quotes in the solution.\n"
      ],
      "metadata": {
        "id": "5xMuucTUJlTf"
      }
    },
    {
      "cell_type": "code",
      "source": [
        "# Select all odd indexed rows (1, 3, 5, ...)\n",
        "odd_rows_df = df.iloc[1::2]\n",
        "\n",
        "# Get the value in the 3rd indexed column of the 332nd indexed row in odd indexed rows\n",
        "value_odd_rows_332_3 = odd_rows_df.iloc[332, 3]\n",
        "print(\"Value in the 3rd indexed column of the 332nd indexed row in odd indexed rows:\", value_odd_rows_332_3)\n"
      ],
      "metadata": {
        "colab": {
          "base_uri": "https://localhost:8080/"
        },
        "id": "_AhI0fDqJuVy",
        "outputId": "d9d848dc-29c3-431f-c745-d3b1ed0aadb9"
      },
      "execution_count": 4,
      "outputs": [
        {
          "output_type": "stream",
          "name": "stdout",
          "text": [
            "Value in the 3rd indexed column of the 332nd indexed row in odd indexed rows: 352940.0\n"
          ]
        }
      ]
    },
    {
      "cell_type": "markdown",
      "source": [
        "#Select all the odd indexed columns from the given dataset. What is the value in the 5th indexed column of the 100th indexed row in the selected dataframe. (row/ column indexed from zero(0))\n",
        "Please consider case sensitivity while giving your solution capital letter ≠ small letter\n",
        "If it is a string don't write quotes in the solution."
      ],
      "metadata": {
        "id": "hWeaLNgqJ3q9"
      }
    },
    {
      "cell_type": "code",
      "source": [
        "# Select odd indexed columns (1, 3, 5, ...)\n",
        "odd_columns_df = df.iloc[:, 1::2]\n",
        "\n",
        "# Get the value in the 5th indexed column of the 100th indexed row in odd indexed columns\n",
        "value_odd_columns_100_5 = odd_columns_df.iloc[100, 5]\n",
        "print(\"Value in the 5th indexed column of the 100th indexed row in odd indexed columns:\", value_odd_columns_100_5)\n"
      ],
      "metadata": {
        "colab": {
          "base_uri": "https://localhost:8080/"
        },
        "id": "LBsQXR9FJ58_",
        "outputId": "88d63304-683b-4c10-aa6c-59804db8dcfa"
      },
      "execution_count": 5,
      "outputs": [
        {
          "output_type": "stream",
          "name": "stdout",
          "text": [
            "Value in the 5th indexed column of the 100th indexed row in odd indexed columns: West\n"
          ]
        }
      ]
    },
    {
      "cell_type": "markdown",
      "source": [
        "#Select all the even indexed columns and even indexed rows from the given dataset. What is the value in the 3th indexed column of the 255th indexed row in the selected dataframe. (row/ column indexed/starts from zero(0))\n",
        "Please consider case sensitivity while giving your solution capital letter ≠ small letter\n",
        "If it is a string don't write quotes in the solution."
      ],
      "metadata": {
        "id": "uxkiHKhHKLo5"
      }
    },
    {
      "cell_type": "code",
      "source": [
        "# Select even indexed rows and even indexed columns\n",
        "even_even_df = df.iloc[::2, ::2]\n",
        "\n",
        "# Get the value in the 3rd indexed column of the 255th indexed row\n",
        "value_even_even_255_3 = even_even_df.iloc[255, 3]\n",
        "print(\"Value in the 3rd indexed column of the 255th indexed row in even indexed rows and columns:\", value_even_even_255_3)\n"
      ],
      "metadata": {
        "colab": {
          "base_uri": "https://localhost:8080/"
        },
        "id": "_Sd8t8ZkKN9I",
        "outputId": "f1c64eac-83d0-4a55-cc85-6d081bac001d"
      },
      "execution_count": 6,
      "outputs": [
        {
          "output_type": "stream",
          "name": "stdout",
          "text": [
            "Value in the 3rd indexed column of the 255th indexed row in even indexed rows and columns: Detached House\n"
          ]
        }
      ]
    },
    {
      "cell_type": "markdown",
      "source": [
        "#Determine the number of samples (rows) in the dataset that belong to the six most recent years, based on the provided data.\n"
      ],
      "metadata": {
        "id": "FMwxjWRiKdCM"
      }
    },
    {
      "cell_type": "code",
      "source": [
        "# Extract the 'Year' column, assuming it's in the format of a 4-digit year (e.g., 2020)\n",
        "df['Year'] = pd.to_datetime(df['Year'], errors='coerce').dt.year\n",
        "\n",
        "# Get the six most recent years\n",
        "recent_years = df['Year'].dropna().unique()\n",
        "recent_years.sort()\n",
        "most_recent_years = recent_years[-6:]\n",
        "\n",
        "# Filter rows belonging to the six most recent years\n",
        "recent_years_df = df[df['Year'].isin(most_recent_years)]\n",
        "\n",
        "# Get the number of rows\n",
        "num_recent_samples = recent_years_df.shape[0]\n",
        "print(\"Number of samples from the six most recent years:\", num_recent_samples)\n"
      ],
      "metadata": {
        "colab": {
          "base_uri": "https://localhost:8080/"
        },
        "id": "TpTT0W3gKfK8",
        "outputId": "c3c191bc-77ab-4c98-802c-4554fd0fd992"
      },
      "execution_count": 7,
      "outputs": [
        {
          "output_type": "stream",
          "name": "stdout",
          "text": [
            "Number of samples from the six most recent years: 10000\n"
          ]
        }
      ]
    },
    {
      "cell_type": "markdown",
      "source": [
        "#Determine the number of samples (rows) in the dataset which has num_rooms = 3 and num_bathrooms = 3\n"
      ],
      "metadata": {
        "id": "_ZFxH0KqKsCB"
      }
    },
    {
      "cell_type": "code",
      "source": [
        "# Filter rows where num_rooms = 3 and num_bathrooms = 3\n",
        "num_rooms_bathrooms_3_df = df[(df['num_rooms'] == 3) & (df['num_bathrooms'] == 3)]\n",
        "\n",
        "# Get the number of rows\n",
        "num_rooms_bathrooms_3_count = num_rooms_bathrooms_3_df.shape[0]\n",
        "print(\"Number of samples where num_rooms = 3 and num_bathrooms = 3:\", num_rooms_bathrooms_3_count)\n"
      ],
      "metadata": {
        "colab": {
          "base_uri": "https://localhost:8080/"
        },
        "id": "J43_YUybKuIK",
        "outputId": "d36494ab-ae53-4cad-8ab1-cdbd83d2531b"
      },
      "execution_count": 8,
      "outputs": [
        {
          "output_type": "stream",
          "name": "stdout",
          "text": [
            "Number of samples where num_rooms = 3 and num_bathrooms = 3: 2730\n"
          ]
        }
      ]
    },
    {
      "cell_type": "markdown",
      "source": [
        "#Determine the number of samples (rows) in the dataset which has num_rooms = 3 or num_bathrooms = 3\n"
      ],
      "metadata": {
        "id": "wzi9iOQlK4el"
      }
    },
    {
      "cell_type": "code",
      "source": [
        "# Filter rows where num_rooms = 3 or num_bathrooms = 3\n",
        "num_rooms_or_bathrooms_3_df = df[(df['num_rooms'] == 3) | (df['num_bathrooms'] == 3)]\n",
        "\n",
        "# Get the number of rows\n",
        "num_rooms_or_bathrooms_3_count = num_rooms_or_bathrooms_3_df.shape[0]\n",
        "print(\"Number of samples where num_rooms = 3 or num_bathrooms = 3:\", num_rooms_or_bathrooms_3_count)\n"
      ],
      "metadata": {
        "colab": {
          "base_uri": "https://localhost:8080/"
        },
        "id": "OXLr6GGMK57-",
        "outputId": "3aae082d-d6bb-4475-cb0d-bee644eb43cb"
      },
      "execution_count": 9,
      "outputs": [
        {
          "output_type": "stream",
          "name": "stdout",
          "text": [
            "Number of samples where num_rooms = 3 or num_bathrooms = 3: 8591\n"
          ]
        }
      ]
    },
    {
      "cell_type": "markdown",
      "source": [
        "#\n",
        "In the Year 2022, how many houses (rows) located in the Greenwich Locality have exactly num_room == 3, and facing towards either the North or East?\n"
      ],
      "metadata": {
        "id": "7fWSyNNzLEKg"
      }
    },
    {
      "cell_type": "code",
      "source": [
        "# Print all column names to check for correct spelling and presence\n",
        "print(df.columns)\n"
      ],
      "metadata": {
        "colab": {
          "base_uri": "https://localhost:8080/"
        },
        "id": "ZNx6GT9ALrbj",
        "outputId": "a8da185b-8e5b-43f7-cb1f-d750adee16f6"
      },
      "execution_count": 12,
      "outputs": [
        {
          "output_type": "stream",
          "name": "stdout",
          "text": [
            "Index(['Date', 'Year', 'Locality', 'Estimated Value', 'Sale Price', 'Property',\n",
            "       'Residential', 'num_rooms', 'num_bathrooms', 'carpet_area',\n",
            "       'property_tax_rate', 'Face'],\n",
            "      dtype='object')\n"
          ]
        }
      ]
    },
    {
      "cell_type": "code",
      "source": [
        "# Filter for houses in 2022, Greenwich locality, num_rooms = 3, and facing North or East\n",
        "greenwich_2022_df = df[(df['Year'] == 2022) &\n",
        "                       (df['Locality'] == 'Greenwich') &\n",
        "                       (df['num_rooms'] == 3) &\n",
        "                       (df['Face'].isin(['North', 'East']))]\n",
        "\n",
        "# Get the number of rows\n",
        "greenwich_2022_count = greenwich_2022_df.shape[0]\n",
        "print(\"Number of houses in Greenwich, 2022, with num_rooms = 3 and facing North or East:\", greenwich_2022_count)\n"
      ],
      "metadata": {
        "colab": {
          "base_uri": "https://localhost:8080/"
        },
        "id": "TggZSqc6L3f7",
        "outputId": "e4cba9f8-f553-45d0-d396-2330df41e24c"
      },
      "execution_count": 13,
      "outputs": [
        {
          "output_type": "stream",
          "name": "stdout",
          "text": [
            "Number of houses in Greenwich, 2022, with num_rooms = 3 and facing North or East: 0\n"
          ]
        }
      ]
    },
    {
      "cell_type": "markdown",
      "source": [
        "#Calculate the number of samples(rows) that correspond to the month of August across all the years.?"
      ],
      "metadata": {
        "id": "3nFoDvFDMFqj"
      }
    },
    {
      "cell_type": "code",
      "source": [
        "# Extract the month from the 'Date' column (assuming 'Date' is in datetime format)\n",
        "df['Date'] = pd.to_datetime(df['Date'], errors='coerce')\n",
        "august_samples_df = df[df['Date'].dt.month == 8]\n",
        "\n",
        "# Get the number of rows\n",
        "august_samples_count = august_samples_df.shape[0]\n",
        "print(\"Number of samples in the month of August:\", august_samples_count)\n"
      ],
      "metadata": {
        "colab": {
          "base_uri": "https://localhost:8080/"
        },
        "id": "RY4B_S4KMHBi",
        "outputId": "5aa0834a-be30-4030-bc1c-207a3defd58a"
      },
      "execution_count": 14,
      "outputs": [
        {
          "output_type": "stream",
          "name": "stdout",
          "text": [
            "Number of samples in the month of August: 1050\n"
          ]
        }
      ]
    },
    {
      "cell_type": "markdown",
      "source": [
        "#According to the data which Locality have highest average Sale Price?"
      ],
      "metadata": {
        "id": "3Elhw03GMRV8"
      }
    },
    {
      "cell_type": "code",
      "source": [
        "# Group by Locality and calculate the average Sale Price\n",
        "avg_sale_price_per_locality = df.groupby('Locality')['Sale Price'].mean()\n",
        "\n",
        "# Find the locality with the highest average sale price\n",
        "highest_avg_sale_price_locality = avg_sale_price_per_locality.idxmax()\n",
        "print(\"Locality with the highest average Sale Price:\", highest_avg_sale_price_locality)\n"
      ],
      "metadata": {
        "colab": {
          "base_uri": "https://localhost:8080/"
        },
        "id": "9jzB_3ZsMSq5",
        "outputId": "fa128f5c-1055-4458-d0ad-4f661d1708f7"
      },
      "execution_count": 15,
      "outputs": [
        {
          "output_type": "stream",
          "name": "stdout",
          "text": [
            "Locality with the highest average Sale Price: Greenwich\n"
          ]
        }
      ]
    }
  ]
}